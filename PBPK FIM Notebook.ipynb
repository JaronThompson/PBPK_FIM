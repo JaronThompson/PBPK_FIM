{
 "cells": [
  {
   "cell_type": "markdown",
   "metadata": {},
   "source": [
    "# <center> Fisher Information Matrix Approach for Optimizing Experimental Design of Pharmacokinetic Studies <center>\n",
    "\n",
    "## <center> Jaron Thompson <center>"
   ]
  },
  {
   "cell_type": "markdown",
   "metadata": {},
   "source": [
    "### <center> Introduction: <center> \n",
    "    \n",
    "Physiologically based pharmacokinetic (PBPK) modeling aims to predict the absorption, distribution, metabolism, and excretion (ADME) of a drug based on a physiologically relevant mathematical model.  PBPK models describe separate organs as a system of connected compartments. PBPK models often require the use of unknown parameters which can be estimated by tuning their values until the model best describes a set of observed data. The ability for a set of data to constrain estimates of model parameters depends on the time frame over which samples are collected, and the number of samples collected within that time frame. The Fisher information matrix (FIM) provides a metric for evaluating the amount of information on model parameters which can be extracted from a set of observed data. The goal of this report is to demonstrate how the FIM can be used to determine the optimal time frame for conducting a drug study to best constrain parameter estimation for PBPK models. "
   ]
  },
  {
   "cell_type": "markdown",
   "metadata": {},
   "source": [
    "### <center> General Approach for Computing FIM of PBPK model \n",
    "    \n",
    "The elements of the Fisher information matrix (FIM) represent the degree of change in the likelihood of observed values given a model with respect to changes in corresponding model parameters: \n",
    "\n",
    "\\begin{equation}\n",
    "FIM_{i,j}(\\Theta) = \\mathbb{E}\\left \\{ \\frac{\\partial log(L(Y|\\Theta))}{\\partial \\Theta_{i}} \\cdot \\frac{\\partial log(L(Y|\\Theta))}{\\partial \\Theta_{j}}\\right \\} \n",
    "\\end{equation}\n",
    "\n",
    "For a deterministic PBPK model, the true concentration of drug in each compartment, $Y_{d}$, is related to the model estimate, $\\mu(\\Theta)$, by \n",
    "\n",
    "\\begin{equation}\n",
    "Y_{d} = \\mu(\\Theta) + \\varepsilon\n",
    "\\end{equation}\n",
    "\n",
    "where the measurement error, $\\varepsilon$, is assumed to be normally distributed with mean zero and covariance matrix $\\Sigma$. The FIM for this model is defined as\n",
    "\n",
    "\\begin{equation}\n",
    "\\left\\{FIM_{i,j}(\\Theta)\\right\\} = \\frac{\\partial\\mu(\\Theta)}{\\partial\\Theta_{i}}^T \\Sigma^{-1} \\frac{\\partial\\mu(\\Theta)}{\\partial\\Theta_{j}} \n",
    "\\end{equation}\n",
    "\n",
    "The change in each compartment concentration with respect to each parameter is defined as \n",
    "\n",
    "\\begin{equation}\n",
    "SV_{i} = \\frac{\\partial\\mu}{\\partial\\Theta_{i}} = \\left ( \\frac{\\partial\\mu(t_{1})}{\\partial\\Theta_{i}} , ... , \\frac{\\partial\\mu(t_{n})}{\\partial\\Theta_{i}} \\right )\n",
    "\\end{equation}\n",
    "\n",
    "where $SV_{i}$ is the sensitivity vector representing the sensitivity of the model with respect to $\\Theta_{i}$. To calculate the sensitivity of each compartment to each parameter value, we can define the change in the sensitivity vector with respect to time with the following derivation. \n",
    "\n",
    "$$\n",
    "\\frac{\\mathrm{d}SV_{i}}{\\mathrm{d} t} = \\frac{\\partial^2\\mu}{\\partial \\Theta_{i}\\partial t} \n",
    "$$\n",
    "\n",
    "$$\n",
    "\\frac{\\partial\\mu}{\\partial t} = A\\mu + f\n",
    "$$\n",
    "\n",
    "$$\n",
    "\\frac{\\mathrm{d}SV_{i}}{\\mathrm{d} t} = \\frac{\\partial}{\\partial\\Theta}(A\\mu + f) = \\mu\\frac{\\partial A}{\\partial \\Theta_{i}} + A\\frac{\\partial\\mu}{\\partial\\Theta_{i}} + \\frac{\\partial f}{\\partial\\Theta_{i}}\n",
    "$$\n",
    "\n",
    "\\begin{equation}\n",
    "\\frac{\\mathrm{d}SV_{i}}{\\mathrm{d} t} = \\mu\\frac{\\partial A}{\\partial \\Theta_{i}} + A\\cdot SV_{i} + \\frac{\\partial f}{\\partial\\Theta_{i}}\n",
    "\\end{equation}\n",
    "\n",
    "This expression for the sensitivity vector can be solved simultaneously with the model estimates using the following set of ordinary linear differential equations\n",
    "\n",
    "\\begin{equation}\n",
    "\\begin{bmatrix} \\frac{\\mathrm{d}\\mu}{\\mathrm{d}t} \n",
    "\\\\\\\\ \n",
    "\\frac{\\mathrm{d}SV}{\\mathrm{d}t}\n",
    "\\end{bmatrix} = \\begin{bmatrix} \n",
    "A & 0\n",
    "\\\\\\\\ \n",
    "\\frac{\\partial A}{\\partial \\Theta} & A\n",
    "\\end{bmatrix}\n",
    "\\begin{bmatrix}\n",
    "\\mu\n",
    "\\\\\\\\ \n",
    "SV\n",
    "\\end{bmatrix}\n",
    "+ \n",
    "\\begin{bmatrix}\n",
    "f\n",
    "\\\\\\\\\n",
    "\\frac{\\partial f}{\\partial \\Theta}\n",
    "\\end{bmatrix}\n",
    "\\end{equation}\n",
    "\n"
   ]
  },
  {
   "cell_type": "markdown",
   "metadata": {},
   "source": [
    "### <center> Two Compartment Model: \n",
    "\n",
    "Two compartment pharmacokinetic models are commonly used to approximate the behavior of a drug in the body. The two compartment model is composed of a central compartment, which represents the concentration of blood in the plasma, and a peripheral compartment, which represents the uptake of drugs by other organs. The following example demonstrates how the FIM can be used to determine the optimal sampling time frame in which a fixed number of samples measuring drug concentration should be collected. \n",
    "\n",
    "Consider a two compartment model with parameters $k_{12}$ and $k_{el}$. "
   ]
  },
  {
   "attachments": {
    "2compartment.png": {
     "image/png": "[encoded data removed]"
    }
   },
   "cell_type": "markdown",
   "metadata": {},
   "source": [
    "![2compartment.png](attachment:2compartment.png)"
   ]
  },
  {
   "cell_type": "markdown",
   "metadata": {},
   "source": [
    "This system can be modeled by the following set of coupled first order differential equations:\n",
    "\n",
    "\\begin{equation}\n",
    "\\begin{bmatrix} \\mu_{1}' \\\\\\\\ \\mu_{2}' \\end{bmatrix} = \\begin{bmatrix}  -k_{12} & 0 \\\\\\\\ \\frac{k_{12}V_{1}}{V_{2}} & -k_{el}\\end{bmatrix} \\begin{bmatrix} \\mu_{1} \\\\\\\\ \\mu_{2}\\end{bmatrix}\n",
    "\\end{equation}"
   ]
  },
  {
   "cell_type": "code",
   "execution_count": 1,
   "metadata": {},
   "outputs": [],
   "source": [
    "# import necessary libraries and functions \n",
    "import numpy as np\n",
    "from numpy.linalg import inv, det\n",
    "import matplotlib.pyplot as plt\n",
    "import sympy\n",
    "from sympy import *\n",
    "import FIM_PK\n",
    "from FIM_PK import PK_N_compartment\n",
    "\n",
    "k_12, k_el, V1, V2 = symbols(('k_12', 'k_el', 'V1', 'V2'), positive=True, real=True)\n",
    "\n",
    "# time dependent mass balance equations\n",
    "# (dC1/dt) = -k12*C1\n",
    "# (dC2/dt) = k12*V1/V2*C1 - kel*C2\n",
    "\n",
    "# define coefficient matrix a\n",
    "a  = Matrix([[-k_12, 0],\n",
    "             [k_12*V1/V2, -k_el]])\n",
    "# no forcing function\n",
    "f = Matrix([0,0])\n",
    "\n",
    "# define params used in model\n",
    "params = (k_12, k_el, V1, V2)\n",
    "\n",
    "# create my PK object\n",
    "PK = PK_N_compartment(a, f, params)\n",
    "\n",
    "# set maximum likelihood estimate for parameter values \n",
    "mle_vals = np.array([.2, .1, 1, 12]) # V1, V2, k12, kel \n",
    "PK.set_mle(mle_vals) \n",
    "\n",
    "# set initial concentrations \n",
    "c0 = np.array([.5, 0]) # compartment 1, compartment 2\n",
    "PK.set_c0(c0)"
   ]
  },
  {
   "cell_type": "markdown",
   "metadata": {},
   "source": [
    "Now that a PK object is instantiated with symbolic expressions for the \"A\" matrix and forcing function, we can evaluate E-optimality of the FIM at different time frames and plot the results."
   ]
  },
  {
   "cell_type": "code",
   "execution_count": 2,
   "metadata": {},
   "outputs": [
    {
     "data": {
      "image/png": "[encoded data removed]",
      "text/plain": [
       "<Figure size 1008x576 with 1 Axes>"
      ]
     },
     "metadata": {},
     "output_type": "display_data"
    }
   ],
   "source": [
    "# determine optimal timescale to sample data\n",
    "days = 3\n",
    "time = np.linspace(0, days*24, 1000)\n",
    "N_experiments = 50\n",
    "scales = np.logspace(-3, .05, N_experiments)\n",
    "tspan = [max(time)*scale for scale in scales]\n",
    "E_optimality = np.zeros(N_experiments)\n",
    "\n",
    "for i, scale in enumerate(scales):\n",
    "    t_array = time*scale\n",
    "    FIM = Matrix(PK.FIM(t_array)[:2,:2])\n",
    "    eig, V = np.linalg.eig(np.array(FIM).astype(np.float))\n",
    "    E_optimality[i] = min(eig)\n",
    "\n",
    "best_time_scale = max(time*scales[np.argmax(E_optimality)])\n",
    "fig = plt.figure(figsize=(14, 8))\n",
    "ax = fig.add_subplot(1, 1, 1)\n",
    "ax.plot(tspan, E_optimality, label='Optimal Time Frame: {:.1f}'.format(best_time_scale))\n",
    "ax.set_ylabel('E optimality')\n",
    "ax.set_xlabel('Time Frame (hours)')\n",
    "ax.legend(loc='lower right')\n",
    "\n",
    "plt.show()"
   ]
  },
  {
   "cell_type": "markdown",
   "metadata": {},
   "source": [
    "### <center> Confirm Results with Parameter Estimation on Simulated Data \n",
    "    \n",
    "The above results suggest that the optimal time frame for collecting a fixed number of samples to best constrain parameter estimates of our PBPK model is 25.7 hours. \n",
    "\n",
    "We can confirm these results by performing parameter estimation with simulated experimental data collected over different hypothetical time frames. If our results are correct, estimated parameters from data collected within a 25.7 hour time frame should exhibit the least amount of variability. "
   ]
  },
  {
   "cell_type": "code",
   "execution_count": 4,
   "metadata": {
    "scrolled": true
   },
   "outputs": [],
   "source": [
    "# import optimization functions for parameter estimation\n",
    "from scipy.optimize import curve_fit, leastsq, fmin\n",
    "from scipy.integrate import odeint\n",
    "\n",
    "# define system of equations\n",
    "def system(C, t, k12, kel):\n",
    "    c1, c2 = C\n",
    "    dc1dt = -k12*c1\n",
    "    dc2dt = k12*1/12*c1 - kel*c2\n",
    "    return (dc1dt, dc2dt)\n",
    "\n",
    "# define function to generate simulated \"true\" data with noise\n",
    "def get_true_data(system, true_params, c0, tspan, noise=0):\n",
    "    # generate true data (just second compartment) with noise\n",
    "    soln = odeint(system, c0, tspan, args=true_params)\n",
    "    # add noise to soln\n",
    "    soln += noise*np.random.randn(soln.shape[0], soln.shape[1])\n",
    "    return soln\n",
    "\n",
    "# define objective function for parameter estimation from true data\n",
    "def objective(params, tspan, ydata):\n",
    "    k_12, k_el = params\n",
    "    # using numerical solution\n",
    "    ymodel = odeint(system, c0, tspan, args=(k_12, k_el))\n",
    "    # return sum of squares error\n",
    "    return np.sum((ydata - ymodel)**2)\n",
    "\n",
    "# estimate parameters using Scipy's fmin\n",
    "\n",
    "# initial parameter guess\n",
    "param_guess = np.array([.15, .15])\n",
    "# true params (for generating simulated experimental data)\n",
    "true_params = (.2, .1)\n",
    "\n",
    "# number of trials for each hypothetical experiment with fixed number of samples\n",
    "N_trials = 50\n",
    "N_samples = 50\n",
    "t_experiments = np.linspace(1, days*24, N_experiments)\n",
    "E_optimality_sim = np.zeros(N_experiments)\n",
    "\n",
    "for i, t_end in enumerate(t_experiments):\n",
    "    tspan = np.linspace(0, t_end, N_samples)        # time span over which to collect samples\n",
    "\n",
    "    p1 = np.zeros(N_trials); p2 = np.zeros(N_trials)\n",
    "    for j in range(N_trials):\n",
    "        # noise = E (used to calculate FIM) / N_FIM_samples\n",
    "        Ytrue = get_true_data(system, true_params, c0, tspan, noise=0.001)\n",
    "        param_opt = fmin(objective, param_guess, args=(tspan, Ytrue), disp=0)\n",
    "        p1[j], p2[j] = param_opt\n",
    "\n",
    "    # calculate covariance matrix and E optimality of parameter estimates\n",
    "    P = np.stack((p1,p2), axis=0)\n",
    "    FIM = np.linalg.inv(np.cov(P))/N_samples\n",
    "    eigs, V = np.linalg.eig(FIM)\n",
    "    E_optimality_sim[i] = min(eigs)"
   ]
  },
  {
   "cell_type": "markdown",
   "metadata": {},
   "source": [
    "Plot E optimality of FIM results and simulated results "
   ]
  },
  {
   "cell_type": "code",
   "execution_count": 6,
   "metadata": {},
   "outputs": [
    {
     "data": {
      "image/png": "[encoded data removed]",
      "text/plain": [
       "<Figure size 1008x576 with 1 Axes>"
      ]
     },
     "metadata": {},
     "output_type": "display_data"
    }
   ],
   "source": [
    "tspan = [max(time)*scale for scale in scales]\n",
    "\n",
    "fig = plt.figure(figsize=(14, 8))\n",
    "ax = fig.add_subplot(1, 1, 1)\n",
    "ax.plot(tspan, E_optimality, label='FIM results')\n",
    "ax.scatter(t_experiments, E_optimality_sim, label='Simulated results')\n",
    "ax.set_xlabel('Time Frame (hours)')\n",
    "ax.set_ylabel('E optimality')\n",
    "\n",
    "ax.legend()\n",
    "plt.show()"
   ]
  },
  {
   "cell_type": "markdown",
   "metadata": {},
   "source": [
    "Simulated experimental results show that the covariance of parameter estimates is minimized at the same time frame determined using the above FIM analysis. Future PBPK studies could benefit from optimized experiments designed to minimize variance in parameter estimates. "
   ]
  },
  {
   "cell_type": "markdown",
   "metadata": {},
   "source": [
    "### <center> FIM_PK.py "
   ]
  },
  {
   "cell_type": "code",
   "execution_count": 7,
   "metadata": {},
   "outputs": [],
   "source": [
    "import numpy as np\n",
    "from scipy.integrate import odeint\n",
    "import matplotlib.pyplot as plt\n",
    "import sympy\n",
    "from sympy import *\n",
    "\n",
    "class PK_N_compartment:\n",
    "\n",
    "    def __init__(self, a, f, params):\n",
    "        # set up PK object with a matrix, f forcing function, and parameters\n",
    "\n",
    "        # determine number of compartments and number of parameters\n",
    "        self.NC = a.shape[0]\n",
    "        self.NP = len(params)\n",
    "        self.order = self.NC*(self.NP + 1)\n",
    "        self.params = params\n",
    "\n",
    "        # define symbolic derivatives of a matrix with respect to each param\n",
    "        ai = {}\n",
    "        for i, param in enumerate(params):\n",
    "            ai[i] = diff(a, param)\n",
    "\n",
    "        # create symoblic matrix A\n",
    "        A = Matrix(np.zeros([self.order, self.order]))\n",
    "\n",
    "        for i in range(self.NP+1):\n",
    "            A[i*self.NC:i*self.NC+self.NC,i*self.NC:i*self.NC+self.NC] = a\n",
    "\n",
    "        for i in range(1,self.NP+1):\n",
    "            A[i*self.NC:i*self.NC+self.NC,:self.NC] = ai[i-1]\n",
    "\n",
    "        # define symbolic forcing function f\n",
    "        F = Matrix(np.zeros(self.order))\n",
    "\n",
    "        # populate F with given entries for model forcing function\n",
    "        for i in range(self.NC):\n",
    "            F[i] = f[i]\n",
    "\n",
    "        for i,p in zip(np.arange(self.NC, self.order, self.NC), range(self.NP)):\n",
    "            for j in range(self.NC):\n",
    "                F[i+j] = diff(f, params[p])[j]\n",
    "\n",
    "        self.A = A\n",
    "        self.F = F\n",
    "\n",
    "    def set_mle(self, mle_vals):\n",
    "        # introduce maximum likelihood estimate parameter values to model\n",
    "        A = self.A\n",
    "        F = self.F\n",
    "\n",
    "        subs = {param:mle_val for param,mle_val in zip(self.params, mle_vals)}\n",
    "        A = A.evalf(subs=subs)\n",
    "        F = F.evalf(subs=subs)\n",
    "        A = np.array(A)\n",
    "        F = np.array(F)\n",
    "        # not sure why I can't do this in one step..\n",
    "        self.A = np.array(A, np.float)\n",
    "        self.F = np.array(F, np.float)\n",
    "\n",
    "    def set_c0(self, c0):\n",
    "        self.c0 = np.zeros(self.order)\n",
    "        self.c0[:self.NC] = c0\n",
    "\n",
    "    def get_eqn(self):\n",
    "        return self.A, self.F\n",
    "\n",
    "    def equations(self, c, t):\n",
    "        return np.dot(self.A, c) + np.hstack(self.F)\n",
    "\n",
    "    def solve(self, t_array):\n",
    "        self.soln = odeint(self.equations, self.c0, t_array)\n",
    "        return self.soln\n",
    "\n",
    "    def plot(self, t_array, compartments=False, show=True, label= None, title=None):\n",
    "\n",
    "        if not compartments:\n",
    "            compartments = range(self.NC)\n",
    "\n",
    "        for C in compartments:\n",
    "            plt.plot(t_array, self.soln[:,C-1], label=label)\n",
    "        plt.xlabel('time')\n",
    "        plt.ylabel('concentration')\n",
    "        if title:\n",
    "            plt.title(title)\n",
    "        else:\n",
    "            plt.title('Concentration in Compartment {}'.format(compartments))\n",
    "        plt.legend()\n",
    "        if show:\n",
    "            plt.show()\n",
    "        else:\n",
    "            return plt\n",
    "\n",
    "    def FIM(self, t_array):\n",
    "        self.t_array = t_array\n",
    "        self.NS = len(t_array)\n",
    "        self.solve(t_array)\n",
    "        NC = self.NC\n",
    "        # eqn 14.7: SVi = (dy(t1)/dpi,...,dy(tn)/dpi)'\n",
    "        # eqn 14.8: SM = (SV1,...,SVl)\n",
    "        SM = self.soln[:, NC:]\n",
    "        # define covariance matrix of measurement noise\n",
    "        E = np.eye(self.NS)\n",
    "        # eqn 14.20: FIM(0)ij = E(SVi).T * CM^-1 * E(SVj)\n",
    "        FIM = np.zeros([self.NP, self.NP])\n",
    "        for i in np.arange(0, self.NP*NC, NC):\n",
    "            for j in np.arange(0, self.NP*NC, NC):\n",
    "                for k in range(NC):\n",
    "                    FIM[i//NC,j//NC] += np.dot(np.dot(SM[:,i+k].T, E), SM[:,j+k])\n",
    "        FIM*=self.NS \n",
    "\n",
    "        return FIM\n"
   ]
  }
 ],
 "metadata": {
  "kernelspec": {
   "display_name": "Python 3",
   "language": "python",
   "name": "python3"
  },
  "language_info": {
   "codemirror_mode": {
    "name": "ipython",
    "version": 3
   },
   "file_extension": ".py",
   "mimetype": "text/x-python",
   "name": "python",
   "nbconvert_exporter": "python",
   "pygments_lexer": "ipython3",
   "version": "3.5.6"
  }
 },
 "nbformat": 4,
 "nbformat_minor": 2
}
